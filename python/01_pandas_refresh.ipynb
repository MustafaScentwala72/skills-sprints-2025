import pandas as pd

# create a tiny dataset (like Excel)
data = {
    "Name": ["Aisha", "Ben", "Caro", "Drew"],
    "Country": ["UK", "UK", "IN", "IN"],
    "Spend": [350, 120, 200, 0]
}

df = pd.DataFrame(data)

print("Our dataset:")
print(df)

# 1) basic info
print("\nInfo:")
print(df.info())

# 2) quick summary stats
print("\nSummary:")
print(df.describe())

# 3) group by country
print("\nTotal spend by country:")
print(df.groupby("Country")["Spend"].sum())

# 4) add a new column
df["HighSpender"] = df["Spend"] > 150
print("\nWith HighSpender flag:")
print(df)
